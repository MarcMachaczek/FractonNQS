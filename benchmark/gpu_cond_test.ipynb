{
  "nbformat": 4,
  "nbformat_minor": 0,
  "metadata": {
    "colab": {
      "provenance": [],
      "gpuType": "T4"
    },
    "kernelspec": {
      "name": "python3",
      "display_name": "Python 3"
    },
    "language_info": {
      "name": "python"
    },
    "accelerator": "GPU"
  },
  "cells": [
    {
      "cell_type": "code",
      "execution_count": 1,
      "metadata": {
        "id": "0Grss4XcaRrM"
      },
      "outputs": [],
      "source": [
        "import jax\n",
        "from jax import numpy as jnp\n",
        "from functools import partial"
      ]
    },
    {
      "cell_type": "code",
      "source": [
        "def update_1(x, key):\n",
        "  \"\"\"\n",
        "  Flips the value on random site for every sample.\n",
        "  x is 2d array of shape (N_samples, N_sites)\n",
        "  \"\"\"\n",
        "  idxs = jax.random.randint(key, (x.shape[0],), 0, x.shape[1])\n",
        "  flip = jax.vmap(lambda s, idx: s.at[idx].set(-s.at[idx].get()))\n",
        "  xu = flip(x, idxs)\n",
        "  return xu\n",
        "\n",
        "def update_2(x, key):\n",
        "  \"\"\"\n",
        "  Flips all values on all sites.\n",
        "  \"\"\"\n",
        "  return -x\n",
        "\n",
        "@partial(jax.jit, static_argnums=(1, 2))\n",
        "def weighted_update(x, u1, u2, key):\n",
        "  \"\"\"\n",
        "  Applies update u1 and update u2 with a probability of 50% each to every\n",
        "  sample in x by random. This is done by calculating both updates\n",
        "  and selecting one afterwards\n",
        "  x is 2d array of shape (N_samples, N_sites)\n",
        "  \"\"\"\n",
        "  u1key, u2key, select_key = jax.random.split(key, 3)\n",
        "  xus = jnp.stack([u1(x, u1key), u2(x,u2key)])\n",
        "\n",
        "  choices = jax.random.choice(select_key, 2, shape=(x.shape[0],), p=jnp.array([0.5, 0.5]))\n",
        "  batch_select = jax.vmap(lambda s, i: s[i], in_axes=(1, 0), out_axes=0)\n",
        "\n",
        "  return batch_select(xus, choices)\n",
        "\n",
        "@partial(jax.jit, static_argnums=(1, 2))\n",
        "def weighted_update_branched(x, u1, u2, key):\n",
        "  \"\"\"\n",
        "  Applies update u1 and update u2 with a probability of 50% each to every\n",
        "  sample in x by random. This is done by first selecting the update and then\n",
        "  calculating it.\n",
        "  x is 2d array of shape (N_samples, N_sites)\n",
        "  \"\"\"\n",
        "  ukey, select_key = jax.random.split(key, 2)\n",
        "  choices = jax.random.choice(select_key, 2, shape=(x.shape[0],), p=jnp.array([0.5, 0.5]))\n",
        "\n",
        "  cond_update = jax.vmap(lambda s, choice: jax.lax.cond(choice, u1, u2, s.reshape(1, -1), ukey))\n",
        "  xu = cond_update(x, choices)\n",
        "\n",
        "  return xu\n"
      ],
      "metadata": {
        "id": "PKIXaRYUaZiu"
      },
      "execution_count": 2,
      "outputs": []
    },
    {
      "cell_type": "code",
      "source": [
        "rkey = jax.random.PRNGKey(0)\n",
        "N_samples = 4*4096\n",
        "x = jnp.ones(shape=(N_samples, 2000))\n",
        "# run each update function once to trigger jax compilation\n",
        "wup1 = weighted_update(x, update_1, update_2, rkey)\n",
        "wup2 = weighted_update_branched(x, update_1, update_2, rkey)"
      ],
      "metadata": {
        "id": "gmaBHdfFdAE6"
      },
      "execution_count": 4,
      "outputs": []
    },
    {
      "cell_type": "code",
      "source": [
        "%%timeit\n",
        "up1 = weighted_update(x, update_1, update_2, rkey)"
      ],
      "metadata": {
        "colab": {
          "base_uri": "https://localhost:8080/",
          "height": 0
        },
        "id": "y4MJOYkodoif",
        "outputId": "cc3d8676-2332-4d79-a09b-73037488d009"
      },
      "execution_count": 5,
      "outputs": [
        {
          "output_type": "stream",
          "name": "stdout",
          "text": [
            "2.8 ms ± 1.91 µs per loop (mean ± std. dev. of 7 runs, 100 loops each)\n"
          ]
        }
      ]
    },
    {
      "cell_type": "code",
      "source": [
        "%%timeit\n",
        "up2 = weighted_update_branched(x, update_1, update_2, rkey)"
      ],
      "metadata": {
        "colab": {
          "base_uri": "https://localhost:8080/",
          "height": 0
        },
        "id": "xCpm0I1WrzgX",
        "outputId": "dfff2f29-7d21-4ab6-b402-bb162bfdc440"
      },
      "execution_count": 6,
      "outputs": [
        {
          "output_type": "stream",
          "name": "stdout",
          "text": [
            "2.82 ms ± 797 ns per loop (mean ± std. dev. of 7 runs, 100 loops each)\n"
          ]
        }
      ]
    },
    {
      "cell_type": "markdown",
      "source": [
        "see https://github.com/google/jax/pull/16335/commits/005d4ca78eec595527972de5ed80575185be05e0 and https://jax.readthedocs.io/en/latest/_autosummary/jax.lax.cond.html\n"
      ],
      "metadata": {
        "id": "A1CUoJ5ZDknK"
      }
    }
  ]
}